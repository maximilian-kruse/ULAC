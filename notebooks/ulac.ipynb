{
 "cells": [
  {
   "cell_type": "code",
   "execution_count": null,
   "id": "cd6c8562",
   "metadata": {},
   "outputs": [],
   "source": [
    "import pickle\n",
    "from pathlib import Path\n",
    "\n",
    "import numpy as np\n",
    "import pyvista as pv\n",
    "\n",
    "from cardiac_electrophysiology import mesh_processing as mp\n",
    "from cardiac_electrophysiology.ulac import configuration as config\n",
    "from cardiac_electrophysiology.ulac import construction, workflow"
   ]
  },
  {
   "cell_type": "code",
   "execution_count": null,
   "id": "69554d31",
   "metadata": {},
   "outputs": [],
   "source": [
    "patient_id = \"01\"\n",
    "input_mesh_file = Path(f\"../data/processed/patient_{patient_id}/mesh_with_fibers_tags.vtk\")\n",
    "segmentation_file_name = Path(f\"../data/processed/patient_{patient_id}/segmentation.pkl\")\n",
    "anatomical_tags = {\"MV\": 0, \"LAA\": 1, \"LIPV\": 2, \"LSPV\": 3, \"RIPV\": 4, \"RSPV\": 5}\n",
    "\n",
    "mesh = pv.read(input_mesh_file)\n",
    "mesh = mp.convert_unstructured_to_polydata_mesh(mesh)"
   ]
  },
  {
   "cell_type": "code",
   "execution_count": null,
   "id": "c5f0d425",
   "metadata": {},
   "outputs": [],
   "source": [
    "ulac_construction_settings = construction.ULACConstructorSettings(\n",
    "    mesh=mesh,\n",
    "    feature_tags=anatomical_tags,\n",
    "    path_config=config.path_configs,\n",
    "    marker_config=config.marker_configs,\n",
    "    parameterization_config=config.parameterization_configs,\n",
    "    uac_config=config.uac_configs,\n",
    "    submesh_config=config.submesh_configs,\n",
    "    segmentation_workflow=workflow.workflow,\n",
    ")\n",
    "ulac_constructor = construction.ULACConstructor(ulac_construction_settings)\n",
    "ulac_constructor.construct_segmentation()\n",
    "ulac_constructor.construct_uacs()"
   ]
  },
  {
   "cell_type": "code",
   "execution_count": null,
   "id": "7752a549",
   "metadata": {},
   "outputs": [],
   "source": [
    "marker_data = ulac_constructor.data.marker_data\n",
    "uac_path_data = ulac_constructor.data.uac_path_data\n",
    "marker_key_sequences = list(construction.nested_dict_keys(marker_data))\n",
    "path_key_sequences = list(construction.nested_dict_keys(uac_path_data))\n",
    "\n",
    "plotter = pv.Plotter(window_size=[700, 500])\n",
    "plotter.add_mesh(mesh, style=\"surface\", show_edges=True, color=\"grey\")\n",
    "\n",
    "for key_sequence in marker_key_sequences:\n",
    "    marker = construction.get_dict_entry(key_sequence, marker_data)\n",
    "    if marker is None:\n",
    "        continue\n",
    "    marker_mesh = pv.PolyData(mesh.points[marker])\n",
    "    plotter.add_mesh(marker_mesh, color=\"red\", point_size=15, render_points_as_spheres=True)\n",
    "for key_sequence in path_key_sequences:\n",
    "    path = construction.get_dict_entry(key_sequence, uac_path_data)\n",
    "    if path is None:\n",
    "        continue\n",
    "    path_mesh = pv.PolyData(mesh.points[path.inds])\n",
    "    path_mesh.point_data[\"relative_lengths\"] = path.relative_lengths\n",
    "    plotter.add_mesh(\n",
    "        path_mesh, point_size=10, scalars=\"relative_lengths\", render_points_as_spheres=True\n",
    "    )\n",
    "\n",
    "plotter.show()"
   ]
  },
  {
   "cell_type": "code",
   "execution_count": null,
   "id": "bbcbd038",
   "metadata": {},
   "outputs": [],
   "source": [
    "uac_submesh_data = ulac_constructor.data.uac_submesh_data\n",
    "uac_submesh_key_sequences = list(construction.nested_dict_keys(uac_submesh_data))\n",
    "\n",
    "plotter = pv.Plotter()\n",
    "for key_sequence in uac_submesh_key_sequences:\n",
    "    uac_submesh = construction.get_dict_entry(key_sequence, uac_submesh_data)\n",
    "    if uac_submesh is None:\n",
    "        continue\n",
    "    coordinates = np.hstack(\n",
    "        (\n",
    "            uac_submesh.alpha[:, None],\n",
    "            uac_submesh.beta[:, None],\n",
    "            np.zeros((uac_submesh.alpha.shape[0], 1)),\n",
    "        )\n",
    "    )\n",
    "    submesh = pv.PolyData.from_regular_faces(coordinates, uac_submesh.connectivity)\n",
    "    plotter.add_mesh(submesh, style=\"wireframe\", color=\"grey\")\n",
    "plotter.view_xy()\n",
    "plotter.show()"
   ]
  }
 ],
 "metadata": {
  "kernelspec": {
   "display_name": "default",
   "language": "python",
   "name": "python3"
  },
  "language_info": {
   "codemirror_mode": {
    "name": "ipython",
    "version": 3
   },
   "file_extension": ".py",
   "mimetype": "text/x-python",
   "name": "python",
   "nbconvert_exporter": "python",
   "pygments_lexer": "ipython3",
   "version": "3.13.9"
  }
 },
 "nbformat": 4,
 "nbformat_minor": 5
}
